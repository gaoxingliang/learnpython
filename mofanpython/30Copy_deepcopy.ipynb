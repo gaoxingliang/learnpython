{
 "cells": [
  {
   "cell_type": "code",
   "execution_count": 5,
   "metadata": {},
   "outputs": [
    {
     "name": "stdout",
     "output_type": "stream",
     "text": [
      "a obj 2331315863624\n",
      "b obj 2331315863624\n",
      "[33, 2, 3]\n",
      "True\n"
     ]
    }
   ],
   "source": [
    "import copy\n",
    "\n",
    "a = [1,2,3]\n",
    "\n",
    "b = a\n",
    "\n",
    "\n",
    "# 查看对象\n",
    "print(\"a obj\", id(a))\n",
    "print(\"b obj\", id(b))\n",
    "\n",
    "b[0]= 33\n",
    "\n",
    "print(a)\n",
    "print(id(a) == id(b))"
   ]
  },
  {
   "cell_type": "code",
   "execution_count": 4,
   "metadata": {},
   "outputs": [
    {
     "name": "stdout",
     "output_type": "stream",
     "text": [
      "False\n"
     ]
    }
   ],
   "source": [
    "# shadow copy\n",
    "\n",
    "c = copy.copy(a)\n",
    "\n",
    "print(id(c) == id(a))"
   ]
  },
  {
   "cell_type": "code",
   "execution_count": 10,
   "metadata": {},
   "outputs": [
    {
     "name": "stdout",
     "output_type": "stream",
     "text": [
      "False\n",
      "aa= [1, 2, [31, 32]] d= [22, 2, [31, 32]]\n",
      "aa= [1, 2, [34, 32]] d= [22, 2, [34, 32]] aa[2][0]==d[2][0]? True\n"
     ]
    }
   ],
   "source": [
    "aa = [1,2,[31, 32]]\n",
    "d = copy.copy(aa)\n",
    "\n",
    "print(id(aa) == id(d))\n",
    "d[0]=22\n",
    "print(\"aa=\", aa, \"d=\", d)\n",
    "d[2][0] = 34\n",
    "# 可以看到a[2,0]也被改变了\n",
    "print(\"aa=\", aa, \"d=\", d, \"aa[2][0]==d[2][0]?\", aa[2][0]==d[2][0])\n",
    "\n",
    "# 使用deepcopy就会完全保证不重复\n"
   ]
  },
  {
   "cell_type": "code",
   "execution_count": null,
   "metadata": {},
   "outputs": [],
   "source": []
  }
 ],
 "metadata": {
  "kernelspec": {
   "display_name": "Python 3",
   "language": "python",
   "name": "python3"
  },
  "language_info": {
   "codemirror_mode": {
    "name": "ipython",
    "version": 3
   },
   "file_extension": ".py",
   "mimetype": "text/x-python",
   "name": "python",
   "nbconvert_exporter": "python",
   "pygments_lexer": "ipython3",
   "version": "3.6.5"
  }
 },
 "nbformat": 4,
 "nbformat_minor": 2
}
