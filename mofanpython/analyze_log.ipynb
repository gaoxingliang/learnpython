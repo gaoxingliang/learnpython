{
 "cells": [
  {
   "cell_type": "code",
   "execution_count": 1,
   "metadata": {},
   "outputs": [],
   "source": [
    "import numpy as np\n",
    "import matplotlib.pyplot as plt"
   ]
  },
  {
   "cell_type": "code",
   "execution_count": 2,
   "metadata": {},
   "outputs": [],
   "source": [
    "rfile = open(\"testlog.csv\", \"r\")\n",
    "lines = rfile.readlines()"
   ]
  },
  {
   "cell_type": "code",
   "execution_count": 3,
   "metadata": {},
   "outputs": [
    {
     "data": {
      "text/plain": [
       "22469"
      ]
     },
     "execution_count": 3,
     "metadata": {},
     "output_type": "execute_result"
    }
   ],
   "source": [
    "len(lines)"
   ]
  },
  {
   "cell_type": "code",
   "execution_count": 4,
   "metadata": {},
   "outputs": [
    {
     "data": {
      "text/plain": [
       "'min\\n'"
      ]
     },
     "execution_count": 4,
     "metadata": {},
     "output_type": "execute_result"
    }
   ],
   "source": [
    "lines[0]"
   ]
  },
  {
   "cell_type": "code",
   "execution_count": 15,
   "metadata": {},
   "outputs": [
    {
     "data": {
      "text/plain": [
       "array([    0,     1,     2, ..., 22466, 22467, 22468])"
      ]
     },
     "execution_count": 15,
     "metadata": {},
     "output_type": "execute_result"
    }
   ],
   "source": [
    "np.arange(len(lines))"
   ]
  },
  {
   "cell_type": "code",
   "execution_count": 25,
   "metadata": {},
   "outputs": [
    {
     "name": "stdout",
     "output_type": "stream",
     "text": [
      "[ 0  1  2  3  4  5  6  7  8  9 10 11 12 13 14 15 16 17 18 19 20 21 22 23\n",
      " 24 25 26 27 28 29 30 31 32 33 34 35 36 37 38 39 40 41 42 43 44 45 46 47\n",
      " 48 49 50 51 52 53 54 55 56 57 58 59 60 61 62 63 64 65 66 67 68 69 70 71\n",
      " 72 73 74 75 76 77 78 79 80 81 82 83 84 85 86 87 88 89 90 91 92 93 94 95\n",
      " 96 97 98 99]\n",
      "[(1.0, 45), (3.0, 35), (4.0, 32), (2.0, 31), (6.0, 28), (1368.0, 27), (1365.0, 26), (1367.0, 25), (15.0, 24), (4111.0, 24), (11.0, 23), (1366.0, 23), (4103.0, 23), (5.0, 22), (7.0, 22), (1352.0, 21), (1393.0, 21), (4112.0, 21), (4115.0, 21), (16.0, 20), (1371.0, 20), (1379.0, 20), (4093.0, 20), (4110.0, 20), (8.0, 19), (9.0, 19), (1353.0, 19), (4106.0, 19), (4107.0, 19), (1363.0, 18), (1385.0, 18), (1386.0, 18), (1397.0, 18), (0.0, 17), (10.0, 17), (18.0, 17), (24.0, 17), (124.0, 17), (227.0, 17), (1316.0, 17), (1338.0, 17), (1355.0, 17), (1358.0, 17), (1361.0, 17), (1364.0, 17), (1372.0, 17), (1388.0, 17), (1403.0, 17), (2877.0, 17), (4105.0, 17), (4114.0, 17), (13.0, 16), (28.0, 16), (33.0, 16), (41.0, 16), (72.0, 16), (122.0, 16), (1357.0, 16), (1360.0, 16), (1374.0, 16), (1394.0, 16), (1396.0, 16), (1400.0, 16), (4104.0, 16), (4113.0, 16), (14.0, 15), (20.0, 15), (31.0, 15), (104.0, 15), (113.0, 15), (123.0, 15), (140.0, 15), (153.0, 15), (201.0, 15), (1083.0, 15), (1159.0, 15), (1261.0, 15), (1305.0, 15), (1346.0, 15), (1376.0, 15), (1382.0, 15), (4118.0, 15), (17.0, 14), (63.0, 14), (108.0, 14), (110.0, 14), (214.0, 14), (220.0, 14), (276.0, 14), (1045.0, 14), (1324.0, 14), (1330.0, 14), (1349.0, 14), (1351.0, 14), (1354.0, 14), (1362.0, 14), (1471.0, 14), (2958.0, 14), (2963.0, 14), (3106.0, 14)]\n"
     ]
    },
    {
     "ename": "AttributeError",
     "evalue": "'list' object has no attribute 'keys'",
     "output_type": "error",
     "traceback": [
      "\u001b[1;31m---------------------------------------------------------------------------\u001b[0m",
      "\u001b[1;31mAttributeError\u001b[0m                            Traceback (most recent call last)",
      "\u001b[1;32m<ipython-input-25-a4435a229bbc>\u001b[0m in \u001b[0;36m<module>\u001b[1;34m()\u001b[0m\n\u001b[0;32m     10\u001b[0m \u001b[0mprint\u001b[0m\u001b[1;33m(\u001b[0m\u001b[0mnp\u001b[0m\u001b[1;33m.\u001b[0m\u001b[0marange\u001b[0m\u001b[1;33m(\u001b[0m\u001b[0mtop\u001b[0m\u001b[1;33m)\u001b[0m\u001b[1;33m)\u001b[0m\u001b[1;33m\u001b[0m\u001b[0m\n\u001b[0;32m     11\u001b[0m \u001b[0mprint\u001b[0m\u001b[1;33m(\u001b[0m\u001b[0mcounter\u001b[0m\u001b[1;33m.\u001b[0m\u001b[0mmost_common\u001b[0m\u001b[1;33m(\u001b[0m\u001b[0mtop\u001b[0m\u001b[1;33m)\u001b[0m\u001b[1;33m)\u001b[0m\u001b[1;33m\u001b[0m\u001b[0m\n\u001b[1;32m---> 12\u001b[1;33m \u001b[0mplt\u001b[0m\u001b[1;33m.\u001b[0m\u001b[0mscatter\u001b[0m\u001b[1;33m(\u001b[0m\u001b[0mcounter\u001b[0m\u001b[1;33m.\u001b[0m\u001b[0mmost_common\u001b[0m\u001b[1;33m(\u001b[0m\u001b[0mtop\u001b[0m\u001b[1;33m)\u001b[0m\u001b[1;33m.\u001b[0m\u001b[0mkeys\u001b[0m\u001b[1;33m,\u001b[0m \u001b[0mcounter\u001b[0m\u001b[1;33m.\u001b[0m\u001b[0mmost_common\u001b[0m\u001b[1;33m(\u001b[0m\u001b[0mtop\u001b[0m\u001b[1;33m)\u001b[0m\u001b[1;33m.\u001b[0m\u001b[0mvalues\u001b[0m\u001b[1;33m)\u001b[0m\u001b[1;33m\u001b[0m\u001b[0m\n\u001b[0m",
      "\u001b[1;31mAttributeError\u001b[0m: 'list' object has no attribute 'keys'"
     ]
    }
   ],
   "source": [
    "nparr = np.empty(len(lines) - 1)\n",
    "from collections import Counter\n",
    "for i in range(1, len(lines)):\n",
    "    l = lines[i]\n",
    "    l = l.strip(\"\\n\")\n",
    "    intV = int(l)\n",
    "    nparr[i-1] = intV\n",
    "counter=Counter(nparr)\n",
    "top = 100\n",
    "print(np.arange(top))\n",
    "print(counter.most_common(top))\n",
    "plt.scatter(counter.most_common(top).keys, counter.most_common(top).values)\n"
   ]
  },
  {
   "cell_type": "code",
   "execution_count": 10,
   "metadata": {},
   "outputs": [
    {
     "name": "stdout",
     "output_type": "stream",
     "text": [
      "1\n",
      "2\n",
      "3\n",
      "4\n",
      "5\n",
      "6\n",
      "7\n",
      "8\n",
      "9\n"
     ]
    }
   ],
   "source": [
    "for i in range(1, 10):\n",
    "    print(i)"
   ]
  },
  {
   "cell_type": "code",
   "execution_count": null,
   "metadata": {},
   "outputs": [],
   "source": []
  }
 ],
 "metadata": {
  "kernelspec": {
   "display_name": "Python 3",
   "language": "python",
   "name": "python3"
  },
  "language_info": {
   "codemirror_mode": {
    "name": "ipython",
    "version": 3
   },
   "file_extension": ".py",
   "mimetype": "text/x-python",
   "name": "python",
   "nbconvert_exporter": "python",
   "pygments_lexer": "ipython3",
   "version": "3.6.5"
  }
 },
 "nbformat": 4,
 "nbformat_minor": 2
}
