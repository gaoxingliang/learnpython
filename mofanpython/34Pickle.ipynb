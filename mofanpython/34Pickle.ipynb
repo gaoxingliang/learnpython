{
 "cells": [
  {
   "cell_type": "markdown",
   "metadata": {},
   "source": [
    "pickle用来存放数据的一种方法. 类似于序列化\n"
   ]
  },
  {
   "cell_type": "code",
   "execution_count": 1,
   "metadata": {},
   "outputs": [],
   "source": [
    "import pickle\n",
    "adict = {\"a\":\"yes\", \"b\": \"no\"}\n",
    "file=open(\"test.pickle\", \"wb\")\n",
    "pickle.dump(adict, file)\n",
    "file.close()\n",
    "\n",
    "\n"
   ]
  },
  {
   "cell_type": "code",
   "execution_count": 2,
   "metadata": {},
   "outputs": [
    {
     "name": "stdout",
     "output_type": "stream",
     "text": [
      "{'a': 'yes', 'b': 'no'}\n"
     ]
    }
   ],
   "source": [
    "# 读取数据\n",
    "\n",
    "\n",
    "file = open(\"test.pickle\", \"rb\")\n",
    "newdict = pickle.load(file)\n",
    "print(newdict)\n",
    "file.close()"
   ]
  },
  {
   "cell_type": "code",
   "execution_count": 4,
   "metadata": {},
   "outputs": [
    {
     "name": "stdout",
     "output_type": "stream",
     "text": [
      "{'a': 'yes', 'b': 'no'}\n"
     ]
    }
   ],
   "source": [
    "# with format\n",
    "with open(\"test.pickle\", \"rb\") as f:\n",
    "    newdict = pickle.load(f)\n",
    "    print(newdict)\n"
   ]
  },
  {
   "cell_type": "code",
   "execution_count": null,
   "metadata": {},
   "outputs": [],
   "source": []
  }
 ],
 "metadata": {
  "kernelspec": {
   "display_name": "Python 3",
   "language": "python",
   "name": "python3"
  },
  "language_info": {
   "codemirror_mode": {
    "name": "ipython",
    "version": 3
   },
   "file_extension": ".py",
   "mimetype": "text/x-python",
   "name": "python",
   "nbconvert_exporter": "python",
   "pygments_lexer": "ipython3",
   "version": "3.6.5"
  }
 },
 "nbformat": 4,
 "nbformat_minor": 2
}
