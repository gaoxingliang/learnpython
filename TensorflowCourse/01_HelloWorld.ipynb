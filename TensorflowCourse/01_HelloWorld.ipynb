{
 "cells": [
  {
   "cell_type": "code",
   "execution_count": 1,
   "metadata": {},
   "outputs": [
    {
     "name": "stderr",
     "output_type": "stream",
     "text": [
      "/anaconda3/lib/python3.6/site-packages/h5py/__init__.py:36: FutureWarning: Conversion of the second argument of issubdtype from `float` to `np.floating` is deprecated. In future, it will be treated as `np.float64 == np.dtype(float).type`.\n",
      "  from ._conv import register_converters as _register_converters\n"
     ]
    }
   ],
   "source": [
    "import tensorflow as tf"
   ]
  },
  {
   "cell_type": "code",
   "execution_count": 2,
   "metadata": {},
   "outputs": [
    {
     "name": "stdout",
     "output_type": "stream",
     "text": [
      "b'Hello world'\n"
     ]
    }
   ],
   "source": [
    "# 创建一个常量operation\n",
    "hw = tf.constant(\"Hello world\")\n",
    "# 启动一个会话 session\n",
    "s = tf.Session()\n",
    "# 运行 graph\n",
    "print(s.run(hw))\n",
    "# 关闭 session\n",
    "s.close()"
   ]
  },
  {
   "cell_type": "markdown",
   "metadata": {},
   "source": [
    "# tf的编程模式\n",
    "## 命令式编程 java/c/c++\n",
    "类似于 \n",
    "$$\n",
    "a=1\n",
    "b=a+2\n",
    "$$\n",
    "## 符号式编程 tf\n",
    "涉及到一些嵌入式优化, 用计算流图来表示\n",
    "![img](img/01.png)"
   ]
  },
  {
   "cell_type": "markdown",
   "metadata": {},
   "source": [
    "# TF的基础结构\n",
    "![img](img/02.png)\n",
    "![img](img/03.png)\n",
    "## 数据模型Tensor = 张量\n",
    "### 常见的tensor\n",
    "Constant/placeholder/Variable/SparseTensor\n",
    "## 计算模型 graph\n",
    "## 运行模型 session\n",
    "![img](img/04.png)"
   ]
  },
  {
   "cell_type": "code",
   "execution_count": 3,
   "metadata": {},
   "outputs": [
    {
     "name": "stdout",
     "output_type": "stream",
     "text": [
      "3\n"
     ]
    }
   ],
   "source": [
    "constant = tf.constant(3)\n",
    "with tf.Session() as s:\n",
    "    r = s.run(constant)\n",
    "print(r)"
   ]
  },
  {
   "cell_type": "code",
   "execution_count": null,
   "metadata": {},
   "outputs": [],
   "source": []
  }
 ],
 "metadata": {
  "kernelspec": {
   "display_name": "Python 3",
   "language": "python",
   "name": "python3"
  },
  "language_info": {
   "codemirror_mode": {
    "name": "ipython",
    "version": 3
   },
   "file_extension": ".py",
   "mimetype": "text/x-python",
   "name": "python",
   "nbconvert_exporter": "python",
   "pygments_lexer": "ipython3",
   "version": "3.6.5"
  }
 },
 "nbformat": 4,
 "nbformat_minor": 2
}
