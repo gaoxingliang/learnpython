{
 "cells": [
  {
   "cell_type": "markdown",
   "metadata": {},
   "source": [
    "这个全都是Tensorflow 示例学习课程中的代码 https://www.bilibili.com/video/av26835020/\n",
    "\n",
    "第一部分是tf的基础运行单元Variable"
   ]
  },
  {
   "cell_type": "code",
   "execution_count": 1,
   "metadata": {},
   "outputs": [
    {
     "name": "stderr",
     "output_type": "stream",
     "text": [
      "C:\\Anaconda3\\lib\\site-packages\\h5py\\__init__.py:36: FutureWarning: Conversion of the second argument of issubdtype from `float` to `np.floating` is deprecated. In future, it will be treated as `np.float64 == np.dtype(float).type`.\n",
      "  from ._conv import register_converters as _register_converters\n"
     ]
    },
    {
     "name": "stdout",
     "output_type": "stream",
     "text": [
      "<tf.Variable 'Variable:0' shape=(1, 2) dtype=float32_ref>\n",
      "Tensor(\"MatMul:0\", shape=(1, 1), dtype=float32)\n",
      "[[2.]]\n"
     ]
    }
   ],
   "source": [
    "import tensorflow as tf\n",
    "a = 3\n",
    "# 1行2列\n",
    "w = tf.Variable([[0.5, 1.0]])\n",
    "\n",
    "# 2列1行\n",
    "x = tf.Variable([[2.0], [1.0]])\n",
    "\n",
    "# 这里实际上并没有开始计算\n",
    "y = tf.matmul(w,x)\n",
    "\n",
    "\n",
    "print(w)\n",
    "\n",
    "init_op=tf.global_variables_initializer()\n",
    "with tf.Session() as sess:\n",
    "    sess.run(init_op)\n",
    "    print(y)\n",
    "    \n",
    "    # eval会进行运算\n",
    "    print(y.eval())\n",
    "                 \n",
    "                 "
   ]
  },
  {
   "cell_type": "markdown",
   "metadata": {},
   "source": [
    "看完了 https://www.bilibili.com/video/av26835020/?p=3"
   ]
  },
  {
   "cell_type": "code",
   "execution_count": 3,
   "metadata": {},
   "outputs": [
    {
     "name": "stdout",
     "output_type": "stream",
     "text": [
      "zeros [[0. 0. 0. 0.]\n",
      " [0. 0. 0. 0.]\n",
      " [0. 0. 0. 0.]]\n",
      "ones [[1. 1. 1. 1.]\n",
      " [1. 1. 1. 1.]\n",
      " [1. 1. 1. 1.]]\n",
      "ones_like [[1 1]\n",
      " [1 1]\n",
      " [1 1]]\n",
      "zeros_like [[0 0]\n",
      " [0 0]\n",
      " [0 0]]\n",
      "1D tensor [1 2 3 4 5 6]\n",
      "2D tensor with -1 [[-1 -1 -1]\n",
      " [-1 -1 -1]]\n",
      "linespace [10.       10.333333 10.666667 11.       11.333333 11.666667 12.      ]\n",
      "range [ 3  7 11 15]\n"
     ]
    }
   ],
   "source": [
    "#float32 更好用\n",
    "# [[0,0,0,0],[0,0,0,0],[0,0,0,0]]\n",
    "\n",
    "tf.zeros([3,4])\n",
    "# all is 1\n",
    "tf.ones([3,4])\n",
    "tensor1 = tf.Variable([[1,2],[3,4],[5,6]])\n",
    "\n",
    "\n",
    "with tf.Session() as sess:\n",
    "    sess.run(init_op)\n",
    "    # 生成全0的3行4列的矩阵\n",
    "    print(\"zeros\", tf.zeros([3,4]).eval())\n",
    "    print(\"ones\", tf.ones([3,4]).eval())\n",
    "    # 按照某个tensor 的大小来生成\n",
    "    print(\"ones_like\", tf.ones_like(tensor1).eval())\n",
    "    print(\"zeros_like\", tf.zeros_like(tensor1).eval())\n",
    "    \n",
    "    # 生成1维的tensor 通过list\n",
    "    print(\"1D tensor\", tf.constant([1,2,3,4,5,6]).eval())\n",
    "    \n",
    "    #生成2D的tensor根据常量值-1\n",
    "    print(\"2D tensor with -1\", tf.constant(-1, shape=[2,3]).eval())\n",
    "    \n",
    "    # 从第一个数开始 到第二个数结束 创建制定数量个数的数字\n",
    "    # [10.       10.333333 10.666667 11.       11.333333 11.666667 12.      ]\n",
    "    print(\"linespace\", tf.linspace(10.0, 12.0, 7, name=\"linspace\").eval())\n",
    "    start = 3\n",
    "    delta = 4\n",
    "    limit = 18\n",
    "    print(\"range\", tf.range(start, limit, delta).eval())\n",
    "   "
   ]
  },
  {
   "cell_type": "code",
   "execution_count": 5,
   "metadata": {},
   "outputs": [
    {
     "name": "stdout",
     "output_type": "stream",
     "text": [
      "高斯分布 [[-0.11718267  1.5525973   0.41056156]\n",
      " [-6.031634    4.6220355   3.7141514 ]]\n",
      "shuffle [[3 4]\n",
      " [1 2]\n",
      " [5 6]]\n"
     ]
    }
   ],
   "source": [
    "# 随机值\n",
    "with tf.Session() as s:\n",
    "    print(\"高斯分布\", tf.random_normal([2,3], mean=-1, stddev=4).eval())\n",
    "    \n",
    "    # 打乱\n",
    "    c = tf.constant([[1,2], [3,4], [5,6]])\n",
    "    shuf = tf.random_shuffle(c)\n",
    "    print(\"shuffle\", shuf.eval())"
   ]
  },
  {
   "cell_type": "code",
   "execution_count": 9,
   "metadata": {},
   "outputs": [
    {
     "name": "stdout",
     "output_type": "stream",
     "text": [
      "Entering....\n",
      "0\n",
      "entring for...\n",
      "1\n",
      "entring for...\n",
      "2\n",
      "entring for...\n",
      "3\n"
     ]
    }
   ],
   "source": [
    "# 一个从0 开始打印\n",
    "state = tf.Variable(0)\n",
    "new_value = tf.add(state, tf.constant(1))\n",
    "update = tf.assign(state, new_value)\n",
    "\n",
    "with tf.Session() as s:\n",
    "    #        global_variables_initializer\n",
    "    s.run(tf.global_variables_initializer())\n",
    "    print(\"Entering....\")\n",
    "    print(s.run(state))\n",
    "    for _ in range(3):\n",
    "        print(\"entring for...\")\n",
    "        s.run(update)\n",
    "        print(s.run(state))"
   ]
  },
  {
   "cell_type": "code",
   "execution_count": null,
   "metadata": {},
   "outputs": [],
   "source": []
  }
 ],
 "metadata": {
  "kernelspec": {
   "display_name": "Python 3",
   "language": "python",
   "name": "python3"
  },
  "language_info": {
   "codemirror_mode": {
    "name": "ipython",
    "version": 3
   },
   "file_extension": ".py",
   "mimetype": "text/x-python",
   "name": "python",
   "nbconvert_exporter": "python",
   "pygments_lexer": "ipython3",
   "version": "3.6.5"
  }
 },
 "nbformat": 4,
 "nbformat_minor": 2
}
