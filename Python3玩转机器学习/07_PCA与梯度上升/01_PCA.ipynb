{
 "cells": [
  {
   "cell_type": "markdown",
   "metadata": {},
   "source": [
    "# PCA 主成分分析法\n",
    "## principal component analysis\n",
    "主要用于数据降维\n",
    "![pca01](img/pca01.png)\n",
    "\n",
    "## 当我们需要降维时\n",
    "如下的2个特征:\n",
    "![map1](img/map1.png)\n",
    "\n",
    "需要降维时:\n",
    "![map2](img/map2.png)\n",
    "\n",
    "\n",
    "可能右边是更好地方案 因为<font color=\"red\">点之间距离更大 所以点的区分度更大 并且保持了原来的数据的区分距离</font>\n",
    "\n",
    "但是这个并不是最好的方案\n",
    "\n",
    "### 下面这个呢\n",
    "![map3](img/map3.png)\n",
    "![map4](img/map4.png)\n",
    "\n",
    "### 问题就变为了: 如何找到让样本间距更大的轴\n",
    "#### 使用方差Variance\n",
    "\n",
    "$$\n",
    "Var(x) = \\frac{1}{m}\\sum_{i=0}^{m}(x_i - x_{avg})^2\n",
    "$$\n",
    "\n",
    "#### 让方差最小 Steps\n",
    "#### 让样本均值归0 demean\n",
    "![avg1](img/var1.png)\n",
    "#### 找一个方向 w1, w2 让映射后的方差最大\n",
    "![avg2](img/var2.png)\n",
    "由于我们进行了demean:\n",
    "![avg3](img/var3.png)\n"
   ]
  },
  {
   "cell_type": "code",
   "execution_count": null,
   "metadata": {},
   "outputs": [],
   "source": []
  }
 ],
 "metadata": {
  "kernelspec": {
   "display_name": "Python 3",
   "language": "python",
   "name": "python3"
  },
  "language_info": {
   "codemirror_mode": {
    "name": "ipython",
    "version": 3
   },
   "file_extension": ".py",
   "mimetype": "text/x-python",
   "name": "python",
   "nbconvert_exporter": "python",
   "pygments_lexer": "ipython3",
   "version": "3.6.5"
  }
 },
 "nbformat": 4,
 "nbformat_minor": 2
}
