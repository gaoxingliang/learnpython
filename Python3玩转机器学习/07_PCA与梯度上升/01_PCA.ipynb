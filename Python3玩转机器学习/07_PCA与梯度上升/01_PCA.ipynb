{
 "cells": [
  {
   "attachments": {},
   "cell_type": "markdown",
   "metadata": {},
   "source": [
    "# PCA 主成分分析法\n",
    "## principal component analysis\n",
    "主要用于数据降维\n",
    "![pca01](img/pca01.png)\n",
    "\n",
    "## 当我们需要降维时\n",
    "如下的2个特征:\n",
    "![map1](img/map1.png)\n",
    "\n",
    "需要降维时:\n",
    "![map2](img/map2.png)\n",
    "\n",
    "\n",
    "可能右边是更好地方案 因为<font color=\"red\">点之间距离更大 所以点的区分度更大 并且保持了原来的数据的区分距离</font>\n",
    "\n",
    "但是这个并不是最好的方案\n",
    "\n",
    "### 下面这个呢\n",
    "![map3](img/map3.png)\n",
    "![map4](img/map4.png)\n",
    "\n",
    "### 问题就变为了: 如何找到让样本间距更大的轴\n",
    "#### 使用方差Variance\n",
    "\n",
    "$$\n",
    "Var(x) = \\frac{1}{m}\\sum_{i=0}^{m}(x_i - x_{avg})^2\n",
    "$$\n",
    "\n",
    "#### 让方差最小 Steps\n",
    "#### 让样本均值归0 demean\n",
    "![avg1](img/var1.png)\n",
    "#### 找一个方向 w1, w2 让映射后的方差最大\n",
    "![avg2](img/var2.png)\n",
    "由于我们进行了demean:\n",
    "![avg3](img/var3.png)\n",
    "![avg4](img/var4.png)\n",
    "\n",
    "## PCA VS 线性回归\n",
    "![pcaVsLinReg](img/pcaVsLinReg.png)\n",
    "![pcaVsLinReg2](img/pcaVsLinReg2.png)\n",
    "\n",
    "## 使用梯度上升法求w 使投影后方差最大\n",
    "![gd1.png](img/gd1.png)\n",
    "![mat1.png](img/mat1.png)\n",
    "实际上化简后:\n",
    "$$\n",
    "n*1梯度=\\frac{2}{m} (Xw)^\\mathrm TX\n",
    "也就=\\frac{2}{m} X^\\mathrm T(Xw)\n",
    "其中X是m*n, w是n*1\n",
    "$$\n",
    "<font color=\"red\">这里跟线性回归的很像</font>\n",
    "![linReg1.png](img/linReg1.png)\n"
   ]
  },
  {
   "cell_type": "markdown",
   "metadata": {},
   "source": [
    "# 使用梯度上升求解最大值"
   ]
  },
  {
   "cell_type": "code",
   "execution_count": 1,
   "metadata": {},
   "outputs": [],
   "source": [
    "import numpy as np\n",
    "import matplotlib.pyplot as plt"
   ]
  },
  {
   "cell_type": "code",
   "execution_count": 2,
   "metadata": {},
   "outputs": [],
   "source": [
    "# 2 features, 100 examples\n",
    "np.random.seed = 666\n",
    "X = np.empty((100,2))"
   ]
  },
  {
   "cell_type": "code",
   "execution_count": 3,
   "metadata": {},
   "outputs": [],
   "source": [
    "# random value from 0 - 100\n",
    "X[:, 0] = np.random.uniform(0., 100., size=100)\n",
    "X[:, 1] = 0.75 * X[:, 0] + 3. + np.random.normal(0,10.,size=100)"
   ]
  },
  {
   "cell_type": "code",
   "execution_count": 4,
   "metadata": {},
   "outputs": [
    {
     "data": {
      "text/plain": [
       "<matplotlib.collections.PathCollection at 0x1fcd88db1d0>"
      ]
     },
     "execution_count": 4,
     "metadata": {},
     "output_type": "execute_result"
    },
    {
     "data": {
      "image/png": "[encoded data removed]",
      "text/plain": [
       "<Figure size 432x288 with 1 Axes>"
      ]
     },
     "metadata": {},
     "output_type": "display_data"
    }
   ],
   "source": [
    "plt.scatter(X[:, 0], X[:, 1])"
   ]
  },
  {
   "cell_type": "markdown",
   "metadata": {},
   "source": [
    "## demean"
   ]
  },
  {
   "cell_type": "code",
   "execution_count": 5,
   "metadata": {},
   "outputs": [],
   "source": [
    "def demean(X):\n",
    "    return X - np.mean(X, axis=0)"
   ]
  },
  {
   "cell_type": "code",
   "execution_count": 6,
   "metadata": {},
   "outputs": [
    {
     "name": "stdout",
     "output_type": "stream",
     "text": [
      "testX\n",
      " [[0 1]\n",
      " [2 3]\n",
      " [4 5]\n",
      " [6 7]\n",
      " [8 9]]\n",
      "mean\n",
      " [4. 5.]\n",
      "testX-m\n",
      " [[-4. -4.]\n",
      " [-2. -2.]\n",
      " [ 0.  0.]\n",
      " [ 2.  2.]\n",
      " [ 4.  4.]]\n"
     ]
    }
   ],
   "source": [
    "# demean example\n",
    "testX = np.arange(0, 10).reshape((5, -1))\n",
    "print(\"testX\\n\", testX)\n",
    "m = np.mean(testX, axis=0)\n",
    "print(\"mean\\n\", m)\n",
    "print(\"testX-m\\n\", testX-m)"
   ]
  },
  {
   "cell_type": "code",
   "execution_count": 7,
   "metadata": {},
   "outputs": [],
   "source": [
    "X_mean = demean(X)"
   ]
  },
  {
   "cell_type": "code",
   "execution_count": 8,
   "metadata": {},
   "outputs": [],
   "source": [
    "def f(w, X):\n",
    "    return np.sum((X.dot(w) ** 2))/len(X)"
   ]
  },
  {
   "cell_type": "code",
   "execution_count": 9,
   "metadata": {},
   "outputs": [],
   "source": [
    "def df_math(w, X):\n",
    "    return X.T.dot(X.dot(w)) * 2. /len(X)"
   ]
  },
  {
   "cell_type": "code",
   "execution_count": 10,
   "metadata": {},
   "outputs": [],
   "source": [
    "def df_debug(w, X, epsilon = 0.0001):\n",
    "    # PCA 中w是一个方向向量 所以w 本身比较小 长度为1 所以epsilon 较小\n",
    "    res = np.empty(len(w))\n",
    "    for i in range(len(w)):\n",
    "        w_1 = w.copy()\n",
    "        w_2 = w.copy()\n",
    "        w_1[i] += epsilon\n",
    "        w_2[i] -= epsilon\n",
    "        res[i] = (f(w_1, X) -f(w_2, X))/(2*epsilon)\n",
    "    return res"
   ]
  },
  {
   "cell_type": "code",
   "execution_count": 11,
   "metadata": {},
   "outputs": [],
   "source": [
    "# 因为我们这里w是一个单位向量 所以需要除以w的长度\n",
    "# Frobenius 范数，简称F-范数，是一种矩阵范数矩阵A的Frobenius范数定义为矩阵A各项元素的绝对值平方的总和\n",
    "def direction(w):\n",
    "    return w/np.linalg.norm(w)\n",
    "\n",
    "def gradient_ascent(df, X, initial_w, eta, n_iters=1e4, epsilon=1e-8):\n",
    "    cur_iter = 0\n",
    "    w = direction(initial_w)\n",
    "    while cur_iter < n_iters:\n",
    "        gradient = df(w, X)\n",
    "        last_w = w\n",
    "        w = w + eta * gradient\n",
    "        w = direction(w) ## 注意0: 每次都必须是单位方向\n",
    "        if (abs(f(w, X) - f(last_w, X)) < epsilon):\n",
    "            break\n",
    "        \n",
    "        cur_iter +=1\n",
    "    return w\n",
    "# 注意1: 初始化向量不能是0向量 因为f 有x*w"
   ]
  },
  {
   "cell_type": "code",
   "execution_count": 12,
   "metadata": {},
   "outputs": [
    {
     "data": {
      "text/plain": [
       "array([0.32211975, 0.07548794])"
      ]
     },
     "execution_count": 12,
     "metadata": {},
     "output_type": "execute_result"
    }
   ],
   "source": [
    "initial_w = np.random.random(X.shape[1])\n",
    "initial_w"
   ]
  },
  {
   "cell_type": "code",
   "execution_count": 13,
   "metadata": {},
   "outputs": [],
   "source": [
    "eta = 0.001"
   ]
  },
  {
   "cell_type": "code",
   "execution_count": 14,
   "metadata": {},
   "outputs": [],
   "source": [
    "## 注意2: 在线性回归中需要标准化 这里不需要了\n",
    "## PCA 本身就是要求解一个方向 让映射后的方向上的方差最大. 如果表转化为 方差就被改为1了\n",
    "## 这里实际上demean 已经将均值变为0了 但是标准差没变"
   ]
  },
  {
   "cell_type": "code",
   "execution_count": 15,
   "metadata": {},
   "outputs": [
    {
     "data": {
      "text/plain": [
       "array([0.77488641, 0.63210051])"
      ]
     },
     "execution_count": 15,
     "metadata": {},
     "output_type": "execute_result"
    }
   ],
   "source": [
    "gradient_ascent(df_debug, X_mean, initial_w, eta)"
   ]
  },
  {
   "cell_type": "code",
   "execution_count": 16,
   "metadata": {},
   "outputs": [
    {
     "data": {
      "text/plain": [
       "array([0.77488641, 0.63210051])"
      ]
     },
     "execution_count": 16,
     "metadata": {},
     "output_type": "execute_result"
    }
   ],
   "source": [
    "gradient_ascent(df_math, X_mean, initial_w, eta)"
   ]
  },
  {
   "cell_type": "code",
   "execution_count": 18,
   "metadata": {},
   "outputs": [
    {
     "data": {
      "text/plain": [
       "[<matplotlib.lines.Line2D at 0x1fcd8bbcc50>]"
      ]
     },
     "execution_count": 18,
     "metadata": {},
     "output_type": "execute_result"
    },
    {
     "data": {
      "image/png": "[encoded data removed]",
      "text/plain": [
       "<Figure size 432x288 with 1 Axes>"
      ]
     },
     "metadata": {},
     "output_type": "display_data"
    }
   ],
   "source": [
    "# let's draw\n",
    "w = gradient_ascent(df_math, X_mean, initial_w, eta)\n",
    "plt.scatter(X_mean[:, 0], X_mean[:, 1])\n",
    "plt.plot([0, w[0] * 30], [0, w[1] * 30], color=\"r\")"
   ]
  },
  {
   "cell_type": "code",
   "execution_count": 19,
   "metadata": {},
   "outputs": [],
   "source": [
    "# 这个轴就是一个主成分 (红色)"
   ]
  },
  {
   "cell_type": "code",
   "execution_count": 22,
   "metadata": {},
   "outputs": [
    {
     "data": {
      "text/plain": [
       "<matplotlib.collections.PathCollection at 0x1fcd8c50668>"
      ]
     },
     "execution_count": 22,
     "metadata": {},
     "output_type": "execute_result"
    },
    {
     "data": {
      "image/png": "[encoded data removed]",
      "text/plain": [
       "<Figure size 432x288 with 1 Axes>"
      ]
     },
     "metadata": {},
     "output_type": "display_data"
    }
   ],
   "source": [
    "# 极端情况  可以看到当2个特征存在较强的线性关系时 我们的pca 会找到这个轴\n",
    "# random value from 0 - 100\n",
    "X2 = np.empty((100,2))\n",
    "X2[:, 0] = np.random.uniform(0., 100., size=100)\n",
    "X2[:, 1] = 0.75 * X2[:, 0] + 3. \n",
    "plt.scatter(X2[:, 0], X2[:, 1])"
   ]
  },
  {
   "cell_type": "code",
   "execution_count": 23,
   "metadata": {},
   "outputs": [],
   "source": [
    "X2_mean = demean(X2)"
   ]
  },
  {
   "cell_type": "code",
   "execution_count": 24,
   "metadata": {},
   "outputs": [
    {
     "data": {
      "text/plain": [
       "array([0.8000002 , 0.59999973])"
      ]
     },
     "execution_count": 24,
     "metadata": {},
     "output_type": "execute_result"
    }
   ],
   "source": [
    "w2 = gradient_ascent(df_math, X2_mean, initial_w, eta)\n",
    "w2"
   ]
  },
  {
   "cell_type": "code",
   "execution_count": 26,
   "metadata": {},
   "outputs": [
    {
     "data": {
      "text/plain": [
       "[<matplotlib.lines.Line2D at 0x1fcd8cec7b8>]"
      ]
     },
     "execution_count": 26,
     "metadata": {},
     "output_type": "execute_result"
    },
    {
     "data": {
      "image/png": "[encoded data removed]",
      "text/plain": [
       "<Figure size 432x288 with 1 Axes>"
      ]
     },
     "metadata": {},
     "output_type": "display_data"
    }
   ],
   "source": [
    "plt.scatter(X2_mean[:, 0], X2_mean[:, 1])\n",
    "plt.plot([0, w2[0] * 100], [0, w2[1] * 100], color=\"r\")"
   ]
  },
  {
   "cell_type": "code",
   "execution_count": null,
   "metadata": {},
   "outputs": [],
   "source": [
    "## 如何求出其他多个主成分呢?"
   ]
  }
 ],
 "metadata": {
  "kernelspec": {
   "display_name": "Python 3",
   "language": "python",
   "name": "python3"
  },
  "language_info": {
   "codemirror_mode": {
    "name": "ipython",
    "version": 3
   },
   "file_extension": ".py",
   "mimetype": "text/x-python",
   "name": "python",
   "nbconvert_exporter": "python",
   "pygments_lexer": "ipython3",
   "version": "3.6.5"
  }
 },
 "nbformat": 4,
 "nbformat_minor": 2
}
