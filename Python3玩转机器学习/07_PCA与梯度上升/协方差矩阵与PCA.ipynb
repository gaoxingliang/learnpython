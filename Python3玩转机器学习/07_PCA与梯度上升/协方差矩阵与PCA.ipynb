{
 "cells": [
  {
   "cell_type": "markdown",
   "metadata": {},
   "source": [
    "## 均值 方差\n",
    "\n",
    "平均值的意思:\n",
    "$$\n",
    "X_{mean} = (X_1 + X_2 + ... + X_n)/ n\n",
    "$$\n",
    "\n"
   ]
  },
  {
   "cell_type": "code",
   "execution_count": 1,
   "metadata": {},
   "outputs": [],
   "source": [
    "import numpy as np"
   ]
  },
  {
   "cell_type": "code",
   "execution_count": 2,
   "metadata": {},
   "outputs": [
    {
     "name": "stdout",
     "output_type": "stream",
     "text": [
      "3.5\n"
     ]
    }
   ],
   "source": [
    "X=np.array([1,2,3,4,5,6])\n",
    "print(np.mean(X))"
   ]
  },
  {
   "cell_type": "markdown",
   "metadata": {},
   "source": [
    "方差: 衡量一个变量的整体偏离程度\n",
    "$$\n",
    "D(X)=var(X) = \\frac{\\sum(X-X_{mean})}{n-1}\n",
    "$$\n",
    "\n",
    "标准差\n",
    "$$\n",
    "std(X)=\\sqrt[2]{D(X)}\n",
    "$$\n",
    "\n",
    "\n"
   ]
  },
  {
   "cell_type": "code",
   "execution_count": 3,
   "metadata": {},
   "outputs": [
    {
     "data": {
      "text/plain": [
       "1.707825127659933"
      ]
     },
     "execution_count": 3,
     "metadata": {},
     "output_type": "execute_result"
    }
   ],
   "source": [
    "np.std(X)"
   ]
  },
  {
   "cell_type": "code",
   "execution_count": 4,
   "metadata": {},
   "outputs": [
    {
     "data": {
      "text/plain": [
       "2.9166666666666665"
      ]
     },
     "execution_count": 4,
     "metadata": {},
     "output_type": "execute_result"
    }
   ],
   "source": [
    "np.var(X)"
   ]
  },
  {
   "cell_type": "markdown",
   "metadata": {},
   "source": [
    "## 协方差\n",
    "衡量两个变量之间的关系, 值在[-1, 1]之间。。如果它的值是正的，这表明两个特征之间同时增加或减小;如果它的值是负的，这表明两个特征之间有一个增加而另一个减小。如果它的值为0，则表明两个特征之间是独立的。\n",
    "X,Y 两个变量的协方差:\n",
    "$$\n",
    "cov(X,Y) = \\frac{\\sum_{i=1}^{n}(X_i - X_{mean})(Y_i - Y_{mean})}{n-1}\n",
    "$$\n",
    "不同变量组成的矩阵就是协方差矩阵:\n",
    "$$\n",
    "C = \n",
    "  \\begin{matrix}\n",
    "   cov(1, 1) & cov(1, 2) & cov(1, n) \\\\\n",
    "   cov(2, 1) & cov(2, 2) & cov(2, n) \\\\\n",
    "   cov(n, 1) & cov(n, 2) & cov(n, n)\n",
    "  \\end{matrix} \\tag{1}\n",
    "$$\n"
   ]
  },
  {
   "cell_type": "markdown",
   "metadata": {},
   "source": [
    "## np计算协方差矩阵"
   ]
  },
  {
   "cell_type": "code",
   "execution_count": 5,
   "metadata": {},
   "outputs": [],
   "source": [
    "A = np.array([[1,2], [3,4]])"
   ]
  },
  {
   "cell_type": "code",
   "execution_count": 6,
   "metadata": {},
   "outputs": [
    {
     "data": {
      "text/plain": [
       "(2, 2)"
      ]
     },
     "execution_count": 6,
     "metadata": {},
     "output_type": "execute_result"
    }
   ],
   "source": [
    "A.shape"
   ]
  },
  {
   "cell_type": "code",
   "execution_count": 7,
   "metadata": {},
   "outputs": [
    {
     "data": {
      "text/plain": [
       "array([[0.5, 0.5],\n",
       "       [0.5, 0.5]])"
      ]
     },
     "execution_count": 7,
     "metadata": {},
     "output_type": "execute_result"
    }
   ],
   "source": [
    "np.cov(A)"
   ]
  },
  {
   "cell_type": "markdown",
   "metadata": {},
   "source": [
    "# 计算协方差矩阵的特征值和特征向量"
   ]
  },
  {
   "cell_type": "code",
   "execution_count": 8,
   "metadata": {},
   "outputs": [],
   "source": [
    "cov_mat = np.cov(A)"
   ]
  },
  {
   "cell_type": "code",
   "execution_count": 9,
   "metadata": {},
   "outputs": [],
   "source": [
    "eigen_vals, eigen_vecs = np.linalg.eig(cov_mat)"
   ]
  },
  {
   "cell_type": "code",
   "execution_count": 10,
   "metadata": {},
   "outputs": [
    {
     "data": {
      "text/plain": [
       "array([1.00000000e+00, 1.11022302e-16])"
      ]
     },
     "execution_count": 10,
     "metadata": {},
     "output_type": "execute_result"
    }
   ],
   "source": [
    "eigen_vals"
   ]
  },
  {
   "cell_type": "code",
   "execution_count": 11,
   "metadata": {},
   "outputs": [
    {
     "data": {
      "text/plain": [
       "array([[ 0.70710678, -0.70710678],\n",
       "       [ 0.70710678,  0.70710678]])"
      ]
     },
     "execution_count": 11,
     "metadata": {},
     "output_type": "execute_result"
    }
   ],
   "source": [
    "eigen_vecs"
   ]
  },
  {
   "cell_type": "markdown",
   "metadata": {},
   "source": [
    "# 使用协方差矩阵计算的主成分\n",
    "\n",
    "为了让方差最大那么有:找到一个投影方向w, 使$X_i$ 在w上投影的方差最大 (最大化各个样本跟投影轴的距离)\n",
    "$$\n",
    "D(X)=\\frac{1}{n}\\sum_{i=0}^{n}(X_i^\\mathrm Tw)^{\\mathrm T}(X_i^\\mathrm Tw)\n",
    "$$\n",
    "$$\n",
    "\\frac{1}{n}\\sum_{i=0}^{n}w^\\mathrm TX_iX_i^\\mathrm Tw\n",
    "$$\n",
    "$$\n",
    "=w^\\mathrm T\\left(\\frac{1}{n}\\sum_{i=0}^{n}X_iX_i^\\mathrm T\\right)w\n",
    "$$\n",
    "\n",
    "而这个就是X 数据集的协方差矩阵\n"
   ]
  },
  {
   "cell_type": "code",
   "execution_count": 12,
   "metadata": {},
   "outputs": [],
   "source": [
    "np.random.seed = 666\n",
    "X = np.empty((100,2))\n",
    "X[:, 0] = np.random.uniform(0., 100., size=100)\n",
    "X[:, 1] = 0.75 * X[:, 0] + 3. + np.random.normal(0,10.,size=100)"
   ]
  },
  {
   "cell_type": "code",
   "execution_count": 13,
   "metadata": {},
   "outputs": [
    {
     "name": "stdout",
     "output_type": "stream",
     "text": [
      "(100, 2)\n",
      "[[ 0.80495399 -0.59333723]\n",
      " [ 0.59333723  0.80495399]]\n"
     ]
    }
   ],
   "source": [
    "## 使用协方差矩阵的特征值计算的PCA\n",
    "def demean(X):\n",
    "    return X - np.mean(X, axis=0)\n",
    "meanval=np.mean(X, axis=0) #计算原始数据中每一列的均值，axis=0按列取均值\n",
    "newData=X-meanval #去均值化，每个feature的均值为0\n",
    "covMat=np.cov(newData,rowvar=0) #计算协方差矩阵，rowvar=0表示数据的每一列代表一个feature\n",
    "featValue, featVec=np.linalg.eig(covMat) #计算协方差矩阵的特征值和特征向量\n",
    "#最新版已经不需要排序了 \n",
    "#index=np.argsort(featValue) #将特征值按从大到小排序，index保留的是对应原featValue中的下标\n",
    "#n_index=index[-1:-3:-1] #取最大的两维特征值在原featValue中的下标\n",
    "#n_index = index[:-2]\n",
    "#print(\"index1\", n_index, \"index2\", index[-1:-3:-1])\n",
    "n_featVec = featVec[:2]\n",
    "#n_featVec=featVec[:, n_index] #取最大的两维特征值对应的特征向量组成变换矩阵\n",
    "lowData=np.dot(newData,n_featVec) #lowData=newData*n_featVec\n",
    "highData=np.dot(lowData,n_featVec.T)+meanval\n",
    "print(highData.shape)\n",
    "print(n_featVec)"
   ]
  },
  {
   "cell_type": "code",
   "execution_count": 15,
   "metadata": {},
   "outputs": [
    {
     "data": {
      "text/plain": [
       "array([[ 0.80495399,  0.59333723],\n",
       "       [-0.59333723,  0.80495399]])"
      ]
     },
     "execution_count": 15,
     "metadata": {},
     "output_type": "execute_result"
    }
   ],
   "source": [
    "\n",
    "#调用sklearn库实现PCA\n",
    "from sklearn import decomposition\n",
    "pca = decomposition.PCA()\n",
    "pca.fit(X) #X_arr是原始数据集，一行表示一个样本，一列表示一个feature\n",
    "pca.n_components = 2 #降为两维\n",
    "X_reduced = pca.fit_transform(X) #X_reduced是降维后的数据集\n",
    "pca.components_"
   ]
  },
  {
   "cell_type": "code",
   "execution_count": null,
   "metadata": {},
   "outputs": [],
   "source": []
  }
 ],
 "metadata": {
  "kernelspec": {
   "display_name": "Python 3",
   "language": "python",
   "name": "python3"
  },
  "language_info": {
   "codemirror_mode": {
    "name": "ipython",
    "version": 3
   },
   "file_extension": ".py",
   "mimetype": "text/x-python",
   "name": "python",
   "nbconvert_exporter": "python",
   "pygments_lexer": "ipython3",
   "version": "3.6.5"
  }
 },
 "nbformat": 4,
 "nbformat_minor": 2
}
