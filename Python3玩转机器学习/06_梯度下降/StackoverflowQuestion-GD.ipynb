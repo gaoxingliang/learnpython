{
 "cells": [
  {
   "attachments": {},
   "cell_type": "markdown",
   "metadata": {},
   "source": [
    "https://stackoverflow.com/questions/53122001/why-linear-gradient-descent-is-not-working-in-below-code![%E5%9B%BE%E7%89%87.png](attachment:%E5%9B%BE%E7%89%87.png)"
   ]
  },
  {
   "cell_type": "code",
   "execution_count": 2,
   "metadata": {},
   "outputs": [
    {
     "name": "stdout",
     "output_type": "stream",
     "text": [
      "[ 2.78868669  1.84980005  2.56140747  3.72683559  4.73750013  5.62476797\n",
      "  6.60607619  7.72255833  8.47585309  9.67780203 10.54318556]\n"
     ]
    }
   ],
   "source": [
    "import numpy as np\n",
    "np.random.seed(666)\n",
    "# get a matrix with 1000 * 10\n",
    "X = np.random.random(size=(1000,10))\n",
    "# get a theta with [0-11]\n",
    "true_theta = np.arange(1, X.shape[1] + 2, dtype=float)\n",
    "# add a column as interception with all ones\n",
    "X_b = np.hstack([np.ones((len(X), 1)), X])\n",
    "\n",
    "# set the y with x*theta add a normal noise\n",
    "y = X_b.dot(true_theta) + np.random.normal(size=len(X))\n",
    "\n",
    "# define the loss function\n",
    "def J(theta, X_b, y):\n",
    "    try:\n",
    "        return np.sum((y - X_b.dot(theta)) ** 2) / len(X_b)\n",
    "    except:\n",
    "        return float(\"inf\")\n",
    "\n",
    "# get the gradient by matrix cal\n",
    "def dJ(theta, X_b, y):\n",
    "    return X_b.T.dot(X_b.dot(theta) - y) *2. /len(y)\n",
    "    \n",
    "def gradient_descent(dJFunc, X_b, y, initial_theta, eta, n_iters=1e4, epsilon=1e-4):\n",
    "    theta = initial_theta\n",
    "    cur_iter = 0\n",
    "    while cur_iter < n_iters:\n",
    "        gradient = dJFunc(theta, X_b, y)\n",
    "        last_theta = theta\n",
    "        theta = theta - eta * gradient\n",
    "        #print(\"iter\", cur_iter, \" val:\" , theta)\n",
    "        if abs(J(theta, X_b, y) - J(last_theta, X_b, y)) < epsilon:\n",
    "            break\n",
    "        \n",
    "        cur_iter +=1\n",
    "    return theta\n",
    "\n",
    "initial_theta = np.zeros(X_b.shape[1])\n",
    "eta = 0.01\n",
    "theta = gradient_descent(dJ, X_b, y, initial_theta, eta)\n",
    "print(theta)"
   ]
  },
  {
   "cell_type": "code",
   "execution_count": null,
   "metadata": {},
   "outputs": [],
   "source": []
  }
 ],
 "metadata": {
  "kernelspec": {
   "display_name": "Python 3",
   "language": "python",
   "name": "python3"
  },
  "language_info": {
   "codemirror_mode": {
    "name": "ipython",
    "version": 3
   },
   "file_extension": ".py",
   "mimetype": "text/x-python",
   "name": "python",
   "nbconvert_exporter": "python",
   "pygments_lexer": "ipython3",
   "version": "3.6.5"
  }
 },
 "nbformat": 4,
 "nbformat_minor": 2
}
