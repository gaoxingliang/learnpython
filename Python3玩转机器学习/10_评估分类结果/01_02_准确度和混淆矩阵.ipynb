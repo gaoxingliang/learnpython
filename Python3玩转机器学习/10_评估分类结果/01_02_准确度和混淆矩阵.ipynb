{
 "cells": [
  {
   "cell_type": "markdown",
   "metadata": {},
   "source": [
    "我们使用逻辑回归算法来做分类时, 采用的是:\n",
    "准确率\n",
    "但是这个准确率是有缺陷的.\n",
    "![p1](img/p1.png)\n",
    "这样的原因是因为数据分布非常不均匀导致的, 也叫 极度倾斜(Skewed Data)的数据\n",
    "这样就算我们直接预测都没有癌症 发现准确率也很高.\n",
    "\n",
    "![mat](img/mat.png)"
   ]
  },
  {
   "cell_type": "markdown",
   "metadata": {},
   "source": [
    "## 精准率和召回率\n",
    "通过混淆矩阵获得.\n",
    "\n",
    "精准率 = TP / (TP+FP)\n",
    "\n",
    "召回率 = TP / (TP+FN)\n",
    "\n",
    "比如用0 代表无癌症, 1 代表有癌症,\n",
    "那么精准率就是: 我们预测100个人有癌症, 但是真正有癌症的了人的概率\n",
    "\n",
    "召回率就是:每100个有癌症的人中, 我们预测到了有癌症的人正确的概率.\n",
    "\n"
   ]
  },
  {
   "cell_type": "code",
   "execution_count": null,
   "metadata": {},
   "outputs": [],
   "source": []
  }
 ],
 "metadata": {
  "kernelspec": {
   "display_name": "Python 3",
   "language": "python",
   "name": "python3"
  },
  "language_info": {
   "codemirror_mode": {
    "name": "ipython",
    "version": 3
   },
   "file_extension": ".py",
   "mimetype": "text/x-python",
   "name": "python",
   "nbconvert_exporter": "python",
   "pygments_lexer": "ipython3",
   "version": "3.6.5"
  }
 },
 "nbformat": 4,
 "nbformat_minor": 2
}
