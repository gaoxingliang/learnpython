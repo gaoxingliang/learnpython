{
 "cells": [
  {
   "cell_type": "markdown",
   "metadata": {},
   "source": [
    "# 数据集\n",
    "\n",
    "鸢尾花数据集Iris Plants Database\n",
    "\n",
    "有3种鸢尾花 \n",
    "示例数据如下:\n",
    "![iris-example.PNG](iris-example.PNG)\n",
    "第i个样本用$X^{(i)}$表示, 第i个样本的第j个特征就是$X^{(i)}_j$\n",
    "\n",
    "数学上的向量一般是<font color=red>列向量</font>那么上面\n",
    "$X^{(i)}$就是:\n",
    "$$\\left[\\begin{array}{cccc}\n",
    "5.1\\\\\n",
    "3.5\\\\\n",
    "1.4\\\\\n",
    "0.2\n",
    "\\end{array}\\right]\n",
    "$$"
   ]
  },
  {
   "cell_type": "markdown",
   "metadata": {},
   "source": [
    "特征也可以很抽象\n",
    "并不是像我们前面的那样具体\n",
    "比如MINST数据集\n",
    "![minst-example](minst-example.PNG)"
   ]
  },
  {
   "cell_type": "markdown",
   "metadata": {},
   "source": [
    "# 机器学习的基本任务\n",
    "- 分类\n",
    "  - 二分类\n",
    "  - 多分类\n",
    "- 回归\n"
   ]
  },
  {
   "cell_type": "code",
   "execution_count": null,
   "metadata": {},
   "outputs": [],
   "source": [
    ""
   ]
  }
 ],
 "metadata": {
  "kernelspec": {
   "display_name": "Python 3",
   "language": "python",
   "name": "python3"
  },
  "language_info": {
   "codemirror_mode": {
    "name": "ipython",
    "version": 3.0
   },
   "file_extension": ".py",
   "mimetype": "text/x-python",
   "name": "python",
   "nbconvert_exporter": "python",
   "pygments_lexer": "ipython3",
   "version": "3.6.5"
  }
 },
 "nbformat": 4,
 "nbformat_minor": 0
}