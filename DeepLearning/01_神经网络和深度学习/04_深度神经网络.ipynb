{
 "cells": [
  {
   "cell_type": "markdown",
   "metadata": {},
   "source": [
    "# 深度神经网络Deep NN\n",
    "![26](img/26.png)\n",
    "## 一些记号\n",
    "![27](img/27.png)\n",
    "大写的L表示一共有多少层, 这里不包括输入层. 这里L是4.<br>\n",
    "$n^{[l]}$表示第l层的单元数.<br>\n",
    "$a^{[l]}$表示第l层的激活函数.<br>\n",
    "$$\n",
    "a^{[l]}=g^{[l]}(z^{[l]})\n",
    "$$\n",
    "\n",
    "## DNN中的前向传播\n",
    "\n",
    "### 核对矩阵的维数\n",
    "$$\n",
    "w^{[l]} or dw 维数=  (n^{[l]}, n^{[l-1]})\n",
    "$$\n",
    "$$\n",
    "b^{[l]} or db 维数= (n^{[l]}, 1)\n",
    "$$\n",
    "m是训练集大小:\n",
    "$$\n",
    "Z^{[l]}维数 = (n^{[l]}, m)\n",
    "$$\n",
    "\n",
    "![28](img/28.png)\n",
    "\n",
    "\n"
   ]
  },
  {
   "cell_type": "markdown",
   "metadata": {},
   "source": [
    "## 为什么需要Deep? Deep更好\n",
    "我们一般是先探测小范围,然后逐步扩大,最后组建更大的识别功能的函数.\n",
    "![28](img/29.png)\n",
    "![28](img/30.png)\n",
    "\n",
    "## DNN中的反向传播\n",
    "![31](img/31.png)\n",
    "![31](img/32.png)"
   ]
  },
  {
   "cell_type": "markdown",
   "metadata": {},
   "source": [
    "# 具体事项\n",
    "## 前向传播\n",
    "![31](img/33.png)\n",
    "$A^{[0]} = X $\n",
    "\n",
    "## 反向传播\n",
    "![31](img/34.png)\n",
    "![31](img/35.png)\n",
    "![31](img/36.png)"
   ]
  },
  {
   "cell_type": "code",
   "execution_count": null,
   "metadata": {},
   "outputs": [],
   "source": []
  }
 ],
 "metadata": {
  "kernelspec": {
   "display_name": "Python 3",
   "language": "python",
   "name": "python3"
  },
  "language_info": {
   "codemirror_mode": {
    "name": "ipython",
    "version": 3
   },
   "file_extension": ".py",
   "mimetype": "text/x-python",
   "name": "python",
   "nbconvert_exporter": "python",
   "pygments_lexer": "ipython3",
   "version": "3.6.8"
  }
 },
 "nbformat": 4,
 "nbformat_minor": 2
}
