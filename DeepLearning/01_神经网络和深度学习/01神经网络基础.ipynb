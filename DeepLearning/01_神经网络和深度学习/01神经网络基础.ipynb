{
 "cells": [
  {
   "cell_type": "markdown",
   "metadata": {},
   "source": [
    "# 一个最基础的神经元RELU函数\n",
    "![relu](img/relu.png)\n",
    "\n",
    "## Recitified Linear Unit 修正线性单元\n",
    "![nn](img/nn1.png)\n",
    "![nn](img/nn2.png)\n",
    "\n",
    "# 课程中的记号\n",
    "![nn](img/nn3.png)\n",
    "![nn](img/nn4.png)\n",
    "![nn](img/nn5.png)\n",
    "![nn](img/nn6.png)\n"
   ]
  },
  {
   "cell_type": "code",
   "execution_count": null,
   "metadata": {},
   "outputs": [],
   "source": []
  }
 ],
 "metadata": {
  "kernelspec": {
   "display_name": "Python 3",
   "language": "python",
   "name": "python3"
  },
  "language_info": {
   "codemirror_mode": {
    "name": "ipython",
    "version": 3
   },
   "file_extension": ".py",
   "mimetype": "text/x-python",
   "name": "python",
   "nbconvert_exporter": "python",
   "pygments_lexer": "ipython3",
   "version": "3.6.8"
  }
 },
 "nbformat": 4,
 "nbformat_minor": 2
}
