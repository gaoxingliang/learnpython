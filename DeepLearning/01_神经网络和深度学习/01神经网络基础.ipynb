{
 "cells": [
  {
   "cell_type": "markdown",
   "metadata": {},
   "source": [
    "# 一个最基础的神经元RELU函数\n",
    "![relu](img/relu.png)\n",
    "\n",
    "## Recitified Linear Unit 修正线性单元\n",
    "![nn](img/nn1.png)\n",
    "![nn](img/nn2.png)\n",
    "\n",
    "# 课程中的记号\n",
    "![nn](img/nn3.png)\n",
    "![nn](img/nn4.png)\n",
    "![nn](img/nn5.png)\n",
    "![nn](img/nn6.png)\n"
   ]
  },
  {
   "cell_type": "markdown",
   "metadata": {},
   "source": [
    "# broadcasting\n",
    "![img](img/nn7.png)"
   ]
  },
  {
   "cell_type": "code",
   "execution_count": 1,
   "metadata": {},
   "outputs": [],
   "source": [
    "import numpy as np"
   ]
  },
  {
   "cell_type": "code",
   "execution_count": 2,
   "metadata": {},
   "outputs": [],
   "source": [
    "A = np.array([[56.0, 0, 4.4, 68], \n",
    "              [1.2, 104, 52, 8.0],\n",
    "              [1.8, 135, 99.0, 0.9]])"
   ]
  },
  {
   "cell_type": "code",
   "execution_count": 3,
   "metadata": {},
   "outputs": [
    {
     "data": {
      "text/plain": [
       "(3, 4)"
      ]
     },
     "execution_count": 3,
     "metadata": {},
     "output_type": "execute_result"
    }
   ],
   "source": [
    "A.shape"
   ]
  },
  {
   "cell_type": "code",
   "execution_count": 4,
   "metadata": {},
   "outputs": [],
   "source": [
    "cal = np.sum(A, axis=0)"
   ]
  },
  {
   "cell_type": "code",
   "execution_count": 5,
   "metadata": {},
   "outputs": [
    {
     "data": {
      "text/plain": [
       "array([ 59. , 239. , 155.4,  76.9])"
      ]
     },
     "execution_count": 5,
     "metadata": {},
     "output_type": "execute_result"
    }
   ],
   "source": [
    "cal"
   ]
  },
  {
   "cell_type": "code",
   "execution_count": 6,
   "metadata": {},
   "outputs": [],
   "source": [
    "precent = 100 * A / cal.reshape(1, 4)"
   ]
  },
  {
   "cell_type": "code",
   "execution_count": 7,
   "metadata": {},
   "outputs": [
    {
     "data": {
      "text/plain": [
       "array([[94.91525424,  0.        ,  2.83140283, 88.42652796],\n",
       "       [ 2.03389831, 43.51464435, 33.46203346, 10.40312094],\n",
       "       [ 3.05084746, 56.48535565, 63.70656371,  1.17035111]])"
      ]
     },
     "execution_count": 7,
     "metadata": {},
     "output_type": "execute_result"
    }
   ],
   "source": [
    "precent"
   ]
  },
  {
   "cell_type": "markdown",
   "metadata": {},
   "source": [
    "# axis\n",
    "![axis](img/nn8.png)"
   ]
  },
  {
   "cell_type": "markdown",
   "metadata": {},
   "source": [
    "# more examples\n",
    "![imh](img/nn9.png)"
   ]
  },
  {
   "cell_type": "markdown",
   "metadata": {},
   "source": [
    "# 避免犯错的一些技巧"
   ]
  },
  {
   "cell_type": "code",
   "execution_count": 8,
   "metadata": {},
   "outputs": [],
   "source": [
    "# Note 1: 避免(5,)  这样的array\n",
    "# 而是(5,1)这样的向量\n",
    "a = np.random.randn(5)"
   ]
  },
  {
   "cell_type": "code",
   "execution_count": 9,
   "metadata": {},
   "outputs": [
    {
     "data": {
      "text/plain": [
       "array([ 0.06229796, -1.67111383, -0.83837956, -0.81441442, -2.39369578])"
      ]
     },
     "execution_count": 9,
     "metadata": {},
     "output_type": "execute_result"
    }
   ],
   "source": [
    "a"
   ]
  },
  {
   "cell_type": "code",
   "execution_count": 10,
   "metadata": {},
   "outputs": [
    {
     "data": {
      "text/plain": [
       "(5,)"
      ]
     },
     "execution_count": 10,
     "metadata": {},
     "output_type": "execute_result"
    }
   ],
   "source": [
    "a.shape"
   ]
  },
  {
   "cell_type": "code",
   "execution_count": 11,
   "metadata": {},
   "outputs": [
    {
     "name": "stdout",
     "output_type": "stream",
     "text": [
      "[ 0.06229796 -1.67111383 -0.83837956 -0.81441442 -2.39369578]\n"
     ]
    }
   ],
   "source": [
    "print(a.T)"
   ]
  },
  {
   "cell_type": "code",
   "execution_count": 12,
   "metadata": {},
   "outputs": [
    {
     "name": "stdout",
     "output_type": "stream",
     "text": [
      "9.892433076671622\n"
     ]
    }
   ],
   "source": [
    "print(np.dot(a, a.T))"
   ]
  },
  {
   "cell_type": "code",
   "execution_count": 15,
   "metadata": {},
   "outputs": [],
   "source": [
    "#实际上我们用矩阵的话就能减少犯错\n",
    "A = a.reshape((1,5))"
   ]
  },
  {
   "cell_type": "code",
   "execution_count": 16,
   "metadata": {},
   "outputs": [
    {
     "data": {
      "text/plain": [
       "array([[ 0.06229796, -1.67111383, -0.83837956, -0.81441442, -2.39369578]])"
      ]
     },
     "execution_count": 16,
     "metadata": {},
     "output_type": "execute_result"
    }
   ],
   "source": [
    "A"
   ]
  },
  {
   "cell_type": "code",
   "execution_count": 17,
   "metadata": {},
   "outputs": [
    {
     "name": "stdout",
     "output_type": "stream",
     "text": [
      "[[ 0.06229796]\n",
      " [-1.67111383]\n",
      " [-0.83837956]\n",
      " [-0.81441442]\n",
      " [-2.39369578]]\n"
     ]
    }
   ],
   "source": [
    "print(A.T)"
   ]
  },
  {
   "cell_type": "code",
   "execution_count": 18,
   "metadata": {},
   "outputs": [
    {
     "name": "stdout",
     "output_type": "stream",
     "text": [
      "[[9.89243308]]\n"
     ]
    }
   ],
   "source": [
    "print(np.dot(A, A.T))"
   ]
  },
  {
   "cell_type": "code",
   "execution_count": 19,
   "metadata": {},
   "outputs": [
    {
     "name": "stdout",
     "output_type": "stream",
     "text": [
      "[[ 3.88103607e-03 -1.04106986e-01 -5.22293379e-02 -5.07363584e-02\n",
      "  -1.49122369e-01]\n",
      " [-1.04106986e-01  2.79262142e+00  1.40102767e+00  1.36097919e+00\n",
      "   4.00013811e+00]\n",
      " [-5.22293379e-02  1.40102767e+00  7.02880285e-01  6.82788400e-01\n",
      "   2.00682561e+00]\n",
      " [-5.07363584e-02  1.36097919e+00  6.82788400e-01  6.63270844e-01\n",
      "   1.94946036e+00]\n",
      " [-1.49122369e-01  4.00013811e+00  2.00682561e+00  1.94946036e+00\n",
      "   5.72977949e+00]]\n"
     ]
    }
   ],
   "source": [
    "print(np.dot(A.T, A))"
   ]
  },
  {
   "cell_type": "code",
   "execution_count": 20,
   "metadata": {},
   "outputs": [
    {
     "name": "stdout",
     "output_type": "stream",
     "text": [
      "[[-0.12559416]\n",
      " [-0.07512304]\n",
      " [-0.9145903 ]\n",
      " [-1.37720234]\n",
      " [ 0.11685337]]\n"
     ]
    }
   ],
   "source": [
    "b = np.random.randn(5,1)\n",
    "print(b)"
   ]
  },
  {
   "cell_type": "code",
   "execution_count": 22,
   "metadata": {},
   "outputs": [],
   "source": [
    "# Note 2: 多用assert\n",
    "assert(b.shape == (5,1))"
   ]
  },
  {
   "cell_type": "markdown",
   "metadata": {},
   "source": [
    "# more on logic reg cost func\n",
    "![img](img/nn10.png)<br>\n",
    "then we use a log<br>\n",
    "log(xxxxx) = -L(xxxx)<br>\n",
    "用负号是因为我们要最大化这个概率, 但是是最小化损失函数<br>\n",
    "# 多个数据时<br>\n",
    "我们要最大化:p1*p2*p3....*pm<br>\n",
    "这个取log和负号后就是跟我们看到的一样了.<br>"
   ]
  },
  {
   "cell_type": "code",
   "execution_count": null,
   "metadata": {},
   "outputs": [],
   "source": []
  }
 ],
 "metadata": {
  "kernelspec": {
   "display_name": "Python 3",
   "language": "python",
   "name": "python3"
  },
  "language_info": {
   "codemirror_mode": {
    "name": "ipython",
    "version": 3
   },
   "file_extension": ".py",
   "mimetype": "text/x-python",
   "name": "python",
   "nbconvert_exporter": "python",
   "pygments_lexer": "ipython3",
   "version": "3.6.5"
  }
 },
 "nbformat": 4,
 "nbformat_minor": 2
}
