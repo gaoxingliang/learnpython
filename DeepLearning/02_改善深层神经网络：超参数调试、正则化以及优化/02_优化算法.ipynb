{
 "cells": [
  {
   "cell_type": "markdown",
   "metadata": {},
   "source": [
    "# 如何让单次运行更快的一些技巧\n",
    "## 这里主要介绍mini batch 梯度下降的方法\n",
    "![img](img/11.png)\n",
    "这里用的是大括号表示的第几批次\n",
    "实际上就是每次使用不同的batch来进行训练.\n",
    "## mini batch的损失函数\n",
    "![img](img/12.png)\n",
    "### stocastic gradient descent = batch size is 1\n",
    "### 一般取batch size为2的幂次\n",
    "## 比梯度下降更快的优化算法\n",
    "### 指数加权平均\n",
    "![img](img/13.png)\n",
    "![img](img/14.png)\n",
    "让vt~= 1/(1-beta) * days\n",
    "$$\n",
    "v_t = \\beta v_{t-1} + (1-\\beta)\\theta_t\n",
    "$$\n",
    "![img](img/15.png)"
   ]
  },
  {
   "cell_type": "markdown",
   "metadata": {},
   "source": [
    "## Bias correction\n",
    "前面的递推公式可以看到在t较小时, 我们预测的数值明显不准, 这需要我们来改变下初始阶段的预测值.()\n",
    "![img](img/16.png)\n",
    "紫色的是修正前的值.\n",
    "修正公式:\n",
    "$$\n",
    "v_t = \\frac{v_t}{1-\\beta^t}\n",
    "$$\n",
    "# 优化算法1: Momentum GD 使用指数加权移动平均数来更新梯度\n",
    "## 这样可以让梯度下降更快\n",
    "![img](img/17.png)\n",
    "当然你可以使用前面的有bias correction的公式来更新都是可以的.但是我们这的计算次数肯定大于10次了.($1/(1-\\beta)$)\n",
    "\n",
    "# 另一种更新梯度的办法RMSProp\n",
    "RMSProp = root mean squared prop<br>\n",
    "它的更新方式如下:\n",
    "![img](img/18.png)\n",
    "$$\n",
    "s_{dw} = \\beta_2 s_{dw} + (1-\\beta_2)(dw)^2\n",
    "$$\n",
    "最后更新时加了一个$\\eposilon$是为了防止值太小而导致更新的数据太大导致的.  "
   ]
  },
  {
   "cell_type": "markdown",
   "metadata": {},
   "source": [
    "# Adam 优化算法\n",
    "Adaptive moment estimation\n",
    "![img](img/19.png)\n",
    "常见的超参数选择:\n",
    "![img](img/20.png)"
   ]
  },
  {
   "cell_type": "markdown",
   "metadata": {},
   "source": [
    "# learning rate decay 学习率衰减\n",
    "就是为了在训练的最后,学习率应该变得较小.\n",
    "一般是伴随着一个迭代次数的更新方法:\n",
    "![img](img/21.png)"
   ]
  },
  {
   "cell_type": "code",
   "execution_count": null,
   "metadata": {},
   "outputs": [],
   "source": []
  }
 ],
 "metadata": {
  "kernelspec": {
   "display_name": "Python 3",
   "language": "python",
   "name": "python3"
  },
  "language_info": {
   "codemirror_mode": {
    "name": "ipython",
    "version": 3
   },
   "file_extension": ".py",
   "mimetype": "text/x-python",
   "name": "python",
   "nbconvert_exporter": "python",
   "pygments_lexer": "ipython3",
   "version": "3.6.8"
  }
 },
 "nbformat": 4,
 "nbformat_minor": 2
}
