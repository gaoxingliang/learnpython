{
 "cells": [
  {
   "cell_type": "markdown",
   "metadata": {},
   "source": [
    "# 如何让单次运行更快的一些技巧\n",
    "## 这里主要介绍mini batch 梯度下降的方法\n",
    "![img](img/11.png)\n",
    "这里用的是大括号表示的第几批次\n",
    "实际上就是每次使用不同的batch来进行训练.\n",
    "## mini batch的损失函数\n",
    "![img](img/12.png)\n",
    "### stocastic gradient descent = batch size is 1\n",
    "### 一般取batch size为2的幂次\n",
    "## 比梯度下降更快的优化算法\n",
    "### 指数加权平均\n",
    "![img](img/13.png)\n",
    "![img](img/14.png)\n",
    "让vt~= 1/(1-beta) * days\n",
    "$$\n",
    "v_t = \\beta v_{t-1} + (1-\\beta)\\theta_t\n",
    "$$\n",
    "![img](img/15.png)"
   ]
  },
  {
   "cell_type": "code",
   "execution_count": null,
   "metadata": {},
   "outputs": [],
   "source": []
  }
 ],
 "metadata": {
  "kernelspec": {
   "display_name": "Python 3",
   "language": "python",
   "name": "python3"
  },
  "language_info": {
   "codemirror_mode": {
    "name": "ipython",
    "version": 3
   },
   "file_extension": ".py",
   "mimetype": "text/x-python",
   "name": "python",
   "nbconvert_exporter": "python",
   "pygments_lexer": "ipython3",
   "version": "3.6.8"
  }
 },
 "nbformat": 4,
 "nbformat_minor": 2
}
