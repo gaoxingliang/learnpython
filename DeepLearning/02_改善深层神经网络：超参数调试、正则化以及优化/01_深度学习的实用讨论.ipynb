{
 "cells": [
  {
   "cell_type": "markdown",
   "metadata": {},
   "source": [
    "![01](img/01.png)\n",
    "# high bias and high variance\n",
    "![01](img/02.png)\n",
    "# 神经网络的正则化 (解决high variance)\n",
    "神经网络过拟合数据\n",
    "## 逻辑回归的正则化\n",
    "![01](img/03.png)\n",
    "## NN中的正则化\n",
    "实际上也是对最终的W矩阵做L2范数计算, 但是这里不叫矩阵的L2范数,而是叫Frobenius norm.<br>\n",
    "我们将dW的定义新加了一项, 可以看到最终w的会越来越小, 也叫Weight decay. 权重衰减.\n",
    "![01](img/04.png)\n",
    "\n"
   ]
  },
  {
   "cell_type": "markdown",
   "metadata": {},
   "source": [
    "## 为什么正则化可以防止过拟合\n",
    "### 直观感受1\n",
    "假想上面的损失函数中加入了限制W大小的项目.\n",
    "如果我们把lambada设置为足够大的话 我们必须让w越小, 也就是让各个项目尽可能为0, 也即是忽略其中的神经元.\n",
    "也就会简化我们的神经网络.\n",
    "![01](img/05.png)\n",
    "### 直观感受2\n",
    "当W较小时, NN中的神经网络单元越来越倾向于线性的激活函数(相当于取tanh的中间部分)\n",
    "而前面我们说过如果NN中的单元都是线性的,那么整个NN也会是线性的.也就是更简单.\n",
    "![01](img/06.png)\n",
    "## NN中的另外一种正则化 dropout正则化\n",
    "### 随机的让NN中的一些节点失效来训练单个样本\n",
    "![01](img/07.png)\n",
    "keep-prob = 0~1   越大保留越多的节点, 也就更没有dropout\n",
    "### 实现dropout (forward prop and backward prop)\n",
    "![01](img/08.png)\n",
    "最后一步是为了不影响最后的Z=Wa+b的值(因为a中有部分值变为0了  所以我们需要保证最后的Z的期望没有变化)\n",
    "#### 测试阶段不使用dropout\n",
    "\n",
    "### 理解dropout\n",
    "更多的随机化的删除节点可以防止权重过多的在一个特征上聚集.\n",
    "\n",
    "## 更多的正则化方法\n",
    "### Data augmentation(增加)\n",
    "比如翻转一些图片来生成更多的测试用例\n",
    "![01](img/09.png)\n",
    "### Early stopping\n",
    "提前结束迭代过程来防止训练error越来越小而导致的过拟合\n",
    "\n",
    "## 归一化\n",
    "让不同特征都应设在同一个数据范围内StandardScalar in sklearn\n",
    "\n"
   ]
  },
  {
   "cell_type": "markdown",
   "metadata": {},
   "source": [
    "# 梯度消失 梯度爆炸\n",
    "在训练的过程中,可能有时候梯度非常小或者非常大, 我们这里讲如何避免\n",
    "指数级的梯度:\n",
    "![01](img/10.png)"
   ]
  }
 ],
 "metadata": {
  "kernelspec": {
   "display_name": "Python 3",
   "language": "python",
   "name": "python3"
  },
  "language_info": {
   "codemirror_mode": {
    "name": "ipython",
    "version": 3
   },
   "file_extension": ".py",
   "mimetype": "text/x-python",
   "name": "python",
   "nbconvert_exporter": "python",
   "pygments_lexer": "ipython3",
   "version": "3.6.5"
  }
 },
 "nbformat": 4,
 "nbformat_minor": 2
}
