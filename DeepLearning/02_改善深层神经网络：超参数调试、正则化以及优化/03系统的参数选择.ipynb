{
 "cells": [
  {
   "cell_type": "markdown",
   "metadata": {},
   "source": [
    "# 各种超参数 如何进行系统的选择"
   ]
  },
  {
   "cell_type": "markdown",
   "metadata": {},
   "source": [
    "\n",
    "# 经验1: 使用随机值来搜索\n",
    "# 经验2: 从粗到细的搜索\n",
    "## 以前更多的是用的网格搜索\n",
    "## 但是在nn中我们用的更多的是使用随机化的值\n",
    "因为我们并不完全知道每个参数的重要性"
   ]
  },
  {
   "cell_type": "markdown",
   "metadata": {},
   "source": [
    "### 如何选择超参数的合理范围?\n",
    "更多的使用对数区间来搜索:\n",
    "![img](img/22.png)\n",
    "\n",
    "# Batch normalization\n",
    "训练单个模型时, 我们会normalize 输入 (也就是标准化)\n",
    "\n"
   ]
  },
  {
   "cell_type": "code",
   "execution_count": null,
   "metadata": {},
   "outputs": [],
   "source": []
  }
 ],
 "metadata": {
  "kernelspec": {
   "display_name": "Python 3",
   "language": "python",
   "name": "python3"
  },
  "language_info": {
   "codemirror_mode": {
    "name": "ipython",
    "version": 3
   },
   "file_extension": ".py",
   "mimetype": "text/x-python",
   "name": "python",
   "nbconvert_exporter": "python",
   "pygments_lexer": "ipython3",
   "version": "3.6.8"
  }
 },
 "nbformat": 4,
 "nbformat_minor": 2
}
