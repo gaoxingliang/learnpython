{
 "cells": [
  {
   "cell_type": "markdown",
   "metadata": {},
   "source": [
    "# 训练 开发 测试集的选择\n",
    "让dev和test set来自同一个分布是很重要的 来防止优化一个错误的目标\n",
    "![img](img/11.png)\n",
    "\n",
    "# 集合的大小\n",
    "机器学习时代:7/3 或者 6+2+2 的集合大小划分\n",
    "但是现在如果数据很多 比如1百万, 我们更倾向于使用98+1+1的方式来划分.\n",
    "\n",
    "# 可避免误差\n",
    "可避免误差一般是最优误差Bayes optimal error 和 目前训练集上的误差之间的差值. 这一段是可以避免的.  \n",
    "![img](img/12.png)\n",
    "![img](img/13.png)\n",
    "# Error analysis\n",
    "如何对分类错误的数据进行分析:  查看分类错误的图片并按照不同的错误类型分析来得出进一步的优化建议和价值\n",
    "\n",
    "![img](img/14.png)"
   ]
  }
 ],
 "metadata": {
  "kernelspec": {
   "display_name": "Python 3",
   "language": "python",
   "name": "python3"
  },
  "language_info": {
   "codemirror_mode": {
    "name": "ipython",
    "version": 3
   },
   "file_extension": ".py",
   "mimetype": "text/x-python",
   "name": "python",
   "nbconvert_exporter": "python",
   "pygments_lexer": "ipython3",
   "version": "3.6.5"
  }
 },
 "nbformat": 4,
 "nbformat_minor": 2
}
