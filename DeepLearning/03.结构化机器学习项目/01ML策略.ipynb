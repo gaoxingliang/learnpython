{
 "cells": [
  {
   "cell_type": "markdown",
   "metadata": {},
   "source": [
    "当我们想要进一步提高我们系统的准确率或者速度时,我们有很多的办法或者想法. 但是他们会需要很多的时间和精力.<br>\n",
    "那么这一节我们会讲到如何<b>策略性</b>的来选择这些(比如下图的例子):\n",
    "![img](img/01.png)\n",
    "# 有经验的人会使用正交化来\n",
    "让每个旋钮/参数只做一件明确的事也就是正交化 就像以前的电视机旋钮一样.  正交意味着他们成90度角.<br>\n",
    "在机器学习的不同阶段我们有不同的手段来优化:比如下面的例子:\n",
    "![img](img/02.png)\n",
    "# 用一个单实数指标来衡量模型好坏\n",
    "是快速验证调参效果的办法\n",
    "\n"
   ]
  },
  {
   "cell_type": "code",
   "execution_count": null,
   "metadata": {},
   "outputs": [],
   "source": []
  }
 ],
 "metadata": {
  "kernelspec": {
   "display_name": "Python 3",
   "language": "python",
   "name": "python3"
  },
  "language_info": {
   "codemirror_mode": {
    "name": "ipython",
    "version": 3
   },
   "file_extension": ".py",
   "mimetype": "text/x-python",
   "name": "python",
   "nbconvert_exporter": "python",
   "pygments_lexer": "ipython3",
   "version": "3.6.5"
  }
 },
 "nbformat": 4,
 "nbformat_minor": 2
}
