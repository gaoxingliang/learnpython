{
 "cells": [
  {
   "cell_type": "markdown",
   "metadata": {},
   "source": [
    "Numpy 入门"
   ]
  },
  {
   "cell_type": "markdown",
   "metadata": {},
   "source": [
    "## 数组模块"
   ]
  },
  {
   "cell_type": "code",
   "execution_count": 3,
   "metadata": {},
   "outputs": [
    {
     "name": "stdout",
     "output_type": "stream",
     "text": [
      "array 相加 [4 6 8]\n",
      "array乘法 [ 3  8 15]\n",
      "array 平方 [ 9 16 25]\n",
      "取元素 3\n",
      "取列表 [1 2 3]\n",
      "类似矩阵的操作方式 3\n"
     ]
    }
   ],
   "source": [
    "from numpy import array\n",
    "mm = array((1, 2,3))\n",
    "pp = array((3,4,5))\n",
    "print(\"array 相加\",pp+mm)\n",
    "print(\"array乘法\", pp*mm)\n",
    "print(\"array 平方\", pp**2)\n",
    "print(\"取元素\", pp[0])\n",
    "jj=array([[1,2,3],[7,8,9]])\n",
    "print(\"取列表\", jj[0])\n",
    "print(\"类似矩阵的操作方式 jj[0][2]\", jj[0][2])\n",
    "print(\"类似矩阵的操作2  jj[0,2]\", jj[0,2])"
   ]
  },
  {
   "cell_type": "markdown",
   "metadata": {},
   "source": [
    "## 矩阵模块\n"
   ]
  },
  {
   "cell_type": "code",
   "execution_count": 7,
   "metadata": {},
   "outputs": [
    {
     "name": "stdout",
     "output_type": "stream",
     "text": [
      "[[1.2 3. ]]\n",
      "[[1 2 3]]\n",
      "ss[0,1] 2\n",
      "[[   5   11 1605]]\n",
      "[[4842]]\n"
     ]
    }
   ],
   "source": [
    "from numpy import mat, matrix\n",
    "ss = mat([1.2,3])\n",
    "print(ss)\n",
    "ss = matrix([[1,2,3]])\n",
    "print(ss)\n",
    "print(\"ss[0,1]\", ss[0,1])\n",
    "# python 列表转矩阵\n",
    "pyList = [5, 11, 1605]\n",
    "m = mat(pyList)\n",
    "print(m)\n",
    "# 矩阵转职\n",
    "print(m*ss.T)"
   ]
  },
  {
   "cell_type": "code",
   "execution_count": null,
   "metadata": {},
   "outputs": [],
   "source": [
    ""
   ]
  },
  {
   "cell_type": "code",
   "execution_count": null,
   "metadata": {},
   "outputs": [],
   "source": [
    ""
   ]
  }
 ],
 "metadata": {
  "kernelspec": {
   "display_name": "Python 3",
   "language": "python",
   "name": "python3"
  },
  "language_info": {
   "codemirror_mode": {
    "name": "ipython",
    "version": 3.0
   },
   "file_extension": ".py",
   "mimetype": "text/x-python",
   "name": "python",
   "nbconvert_exporter": "python",
   "pygments_lexer": "ipython3",
   "version": "3.6.5"
  }
 },
 "nbformat": 4,
 "nbformat_minor": 0
}